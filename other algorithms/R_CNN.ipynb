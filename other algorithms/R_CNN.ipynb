{
  "nbformat": 4,
  "nbformat_minor": 0,
  "metadata": {
    "colab": {
      "name": "Untitled10.ipynb",
      "provenance": [],
      "authorship_tag": "ABX9TyPROjqOzsJTcesgSoJY77bN",
      "include_colab_link": true
    },
    "kernelspec": {
      "name": "python3",
      "display_name": "Python 3"
    },
    "language_info": {
      "name": "python"
    },
    "accelerator": "GPU"
  },
  "cells": [
    {
      "cell_type": "markdown",
      "metadata": {
        "id": "view-in-github",
        "colab_type": "text"
      },
      "source": [
        "<a href=\"https://colab.research.google.com/github/akshay-121/SURP-Animal-species-detection-from-videos/blob/main/R_CNN.ipynb\" target=\"_parent\"><img src=\"https://colab.research.google.com/assets/colab-badge.svg\" alt=\"Open In Colab\"/></a>"
      ]
    },
    {
      "cell_type": "code",
      "metadata": {
        "id": "jz3pgNaARvin"
      },
      "source": [
        "import tensorflow as tf\n",
        "import numpy as np\n",
        "from tensorflow.keras.models import *\n",
        "from tensorflow.keras.layers import *\n",
        "\n",
        "import cv2\n",
        "import tensorflow.keras.backend as K\n",
        "import matplotlib.pyplot as plt\n",
        "from tensorflow.keras.applications.resnet50 import ResNet50\n",
        "from tensorflow.keras.applications.inception_v3 import InceptionV3\n",
        "\n"
      ],
      "execution_count": null,
      "outputs": []
    },
    {
      "cell_type": "code",
      "metadata": {
        "id": "zVNLGc1A5dBZ"
      },
      "source": [
        "def getrect(img):\n",
        "  ss=cv2.ximgproc.segmentation.createSelectiveSearchSegmentation()\n",
        "  ss.setBaseImage(img)\n",
        "  ss.switchToSelectiveSearchFast()\n",
        "  rects=ss.process()\n",
        "  ans=[]\n",
        "  for i in range(min(2000,len(rects))):\n",
        "    x,y,w,h=rects[i]\n",
        "    if w>=0.35*np.shape(img)[1] and h>=0.3*np.shape(img)[0]:\n",
        "      ans.append([x,y,w,h])\n",
        "  return ans"
      ],
      "execution_count": null,
      "outputs": []
    },
    {
      "cell_type": "code",
      "metadata": {
        "colab": {
          "base_uri": "https://localhost:8080/"
        },
        "id": "MrTovdNp9CNv",
        "outputId": "7eac9266-2d59-4d23-dcd1-2bfc55a0c24b"
      },
      "source": [
        "inp=Input(shape=(224,224,3))\n",
        "res=ResNet50(include_top=False,weights='imagenet',input_tensor=Input(shape=(224,224,3)))\n",
        "x=res.output\n",
        "x = GlobalAveragePooling2D()(x)\n",
        "#x=Flatten()(x)\n",
        "#print(x)\n",
        "x=Dense(4,activation='softmax')(x)\n",
        "model=Model(res.input,x)"
      ],
      "execution_count": null,
      "outputs": [
        {
          "output_type": "stream",
          "text": [
            "Downloading data from https://storage.googleapis.com/tensorflow/keras-applications/resnet/resnet50_weights_tf_dim_ordering_tf_kernels_notop.h5\n",
            "94773248/94765736 [==============================] - 0s 0us/step\n"
          ],
          "name": "stdout"
        }
      ]
    },
    {
      "cell_type": "code",
      "metadata": {
        "colab": {
          "base_uri": "https://localhost:8080/"
        },
        "id": "XpQPxWiyASXi",
        "outputId": "0af8267c-b2d0-4ab0-aea8-f0c6e874c4b4"
      },
      "source": [
        "!git clone https://github.com/EscVM/OIDv4_ToolKit.git\n",
        "!pip3 install -r /content/OIDv4_ToolKit/requirements.txt"
      ],
      "execution_count": null,
      "outputs": [
        {
          "output_type": "stream",
          "text": [
            "Cloning into 'OIDv4_ToolKit'...\n",
            "remote: Enumerating objects: 422, done.\u001b[K\n",
            "remote: Total 422 (delta 0), reused 0 (delta 0), pack-reused 422\u001b[K\n",
            "Receiving objects: 100% (422/422), 34.08 MiB | 30.88 MiB/s, done.\n",
            "Resolving deltas: 100% (146/146), done.\n",
            "Requirement already satisfied: pandas in /usr/local/lib/python3.7/dist-packages (from -r /content/OIDv4_ToolKit/requirements.txt (line 1)) (1.1.5)\n",
            "Requirement already satisfied: numpy in /usr/local/lib/python3.7/dist-packages (from -r /content/OIDv4_ToolKit/requirements.txt (line 2)) (1.19.5)\n",
            "Collecting awscli\n",
            "\u001b[?25l  Downloading https://files.pythonhosted.org/packages/64/4e/8888d2b245e3394aff929f4e54a54a00bdcd318fe87464dcbb0eef2347fd/awscli-1.19.99-py2.py3-none-any.whl (3.6MB)\n",
            "\u001b[K     |████████████████████████████████| 3.6MB 8.1MB/s \n",
            "\u001b[?25hRequirement already satisfied: urllib3 in /usr/local/lib/python3.7/dist-packages (from -r /content/OIDv4_ToolKit/requirements.txt (line 5)) (1.24.3)\n",
            "Requirement already satisfied: tqdm in /usr/local/lib/python3.7/dist-packages (from -r /content/OIDv4_ToolKit/requirements.txt (line 7)) (4.41.1)\n",
            "Requirement already satisfied: opencv-python in /usr/local/lib/python3.7/dist-packages (from -r /content/OIDv4_ToolKit/requirements.txt (line 9)) (4.1.2.30)\n",
            "Requirement already satisfied: python-dateutil>=2.7.3 in /usr/local/lib/python3.7/dist-packages (from pandas->-r /content/OIDv4_ToolKit/requirements.txt (line 1)) (2.8.1)\n",
            "Requirement already satisfied: pytz>=2017.2 in /usr/local/lib/python3.7/dist-packages (from pandas->-r /content/OIDv4_ToolKit/requirements.txt (line 1)) (2018.9)\n",
            "Collecting colorama<0.4.4,>=0.2.5\n",
            "  Downloading https://files.pythonhosted.org/packages/c9/dc/45cdef1b4d119eb96316b3117e6d5708a08029992b2fee2c143c7a0a5cc5/colorama-0.4.3-py2.py3-none-any.whl\n",
            "Collecting botocore==1.20.99\n",
            "\u001b[?25l  Downloading https://files.pythonhosted.org/packages/7b/e0/1c0df6c6f7af9b1db6dac1eae570cf7d2858f014ed6b28b1a0cb51160d57/botocore-1.20.99-py2.py3-none-any.whl (7.6MB)\n",
            "\u001b[K     |████████████████████████████████| 7.6MB 39.1MB/s \n",
            "\u001b[?25hCollecting docutils<0.16,>=0.10\n",
            "\u001b[?25l  Downloading https://files.pythonhosted.org/packages/22/cd/a6aa959dca619918ccb55023b4cb151949c64d4d5d55b3f4ffd7eee0c6e8/docutils-0.15.2-py3-none-any.whl (547kB)\n",
            "\u001b[K     |████████████████████████████████| 552kB 39.9MB/s \n",
            "\u001b[?25hRequirement already satisfied: rsa<4.8,>=3.1.2; python_version > \"2.7\" in /usr/local/lib/python3.7/dist-packages (from awscli->-r /content/OIDv4_ToolKit/requirements.txt (line 3)) (4.7.2)\n",
            "Collecting s3transfer<0.5.0,>=0.4.0\n",
            "\u001b[?25l  Downloading https://files.pythonhosted.org/packages/63/d0/693477c688348654ddc21dcdce0817653a294aa43f41771084c25e7ff9c7/s3transfer-0.4.2-py2.py3-none-any.whl (79kB)\n",
            "\u001b[K     |████████████████████████████████| 81kB 10.8MB/s \n",
            "\u001b[?25hRequirement already satisfied: PyYAML<5.5,>=3.10 in /usr/local/lib/python3.7/dist-packages (from awscli->-r /content/OIDv4_ToolKit/requirements.txt (line 3)) (3.13)\n",
            "Requirement already satisfied: six>=1.5 in /usr/local/lib/python3.7/dist-packages (from python-dateutil>=2.7.3->pandas->-r /content/OIDv4_ToolKit/requirements.txt (line 1)) (1.15.0)\n",
            "Collecting jmespath<1.0.0,>=0.7.1\n",
            "  Downloading https://files.pythonhosted.org/packages/07/cb/5f001272b6faeb23c1c9e0acc04d48eaaf5c862c17709d20e3469c6e0139/jmespath-0.10.0-py2.py3-none-any.whl\n",
            "Requirement already satisfied: pyasn1>=0.1.3 in /usr/local/lib/python3.7/dist-packages (from rsa<4.8,>=3.1.2; python_version > \"2.7\"->awscli->-r /content/OIDv4_ToolKit/requirements.txt (line 3)) (0.4.8)\n",
            "\u001b[31mERROR: datascience 0.10.6 has requirement folium==0.2.1, but you'll have folium 0.8.3 which is incompatible.\u001b[0m\n",
            "\u001b[31mERROR: botocore 1.20.99 has requirement urllib3<1.27,>=1.25.4, but you'll have urllib3 1.24.3 which is incompatible.\u001b[0m\n",
            "Installing collected packages: colorama, jmespath, botocore, docutils, s3transfer, awscli\n",
            "  Found existing installation: docutils 0.17.1\n",
            "    Uninstalling docutils-0.17.1:\n",
            "      Successfully uninstalled docutils-0.17.1\n",
            "Successfully installed awscli-1.19.99 botocore-1.20.99 colorama-0.4.3 docutils-0.15.2 jmespath-0.10.0 s3transfer-0.4.2\n"
          ],
          "name": "stdout"
        }
      ]
    },
    {
      "cell_type": "code",
      "metadata": {
        "colab": {
          "base_uri": "https://localhost:8080/"
        },
        "id": "tjGzAvhhBJzk",
        "outputId": "bb256816-03f1-47a6-e2d0-8310ff8d0af2"
      },
      "source": [
        "!python /content/OIDv4_ToolKit/main.py downloader --classes Tiger --type_csv train --limit 100\n",
        "!python /content/OIDv4_ToolKit/main.py downloader --classes Deer --type_csv train --limit 100\n",
        "!python /content/OIDv4_ToolKit/main.py downloader --classes Lion --type_csv train --limit 100\n",
        "!python /content/OIDv4_ToolKit/main.py downloader --classes Zebra --type_csv train --limit 100"
      ],
      "execution_count": null,
      "outputs": [
        {
          "output_type": "stream",
          "text": [
            "\u001b[92m\n",
            "\t\t   ___   _____  ______            _    _    \n",
            "\t\t .'   `.|_   _||_   _ `.         | |  | |   \n",
            "\t\t/  .-.  \\ | |    | | `. \\ _   __ | |__| |_  \n",
            "\t\t| |   | | | |    | |  | |[ \\ [  ]|____   _| \n",
            "\t\t\\  `-'  /_| |_  _| |_.' / \\ \\/ /     _| |_  \n",
            "\t\t `.___.'|_____||______.'   \\__/     |_____|\n",
            "\t\u001b[0m\n",
            "\u001b[92m\n",
            "             _____                    _                 _             \n",
            "            (____ \\                  | |               | |            \n",
            "             _   \\ \\ ___  _ _ _ ____ | | ___   ____  _ | | ____  ____ \n",
            "            | |   | / _ \\| | | |  _ \\| |/ _ \\ / _  |/ || |/ _  )/ ___)\n",
            "            | |__/ / |_| | | | | | | | | |_| ( ( | ( (_| ( (/ /| |    \n",
            "            |_____/ \\___/ \\____|_| |_|_|\\___/ \\_||_|\\____|\\____)_|    \n",
            "                                                          \n",
            "        \u001b[0m\n",
            "    [INFO] | Downloading Tiger.\u001b[0m\n",
            "\u001b[91m   [ERROR] | Missing the class-descriptions-boxable.csv file.\u001b[0m\n",
            "\u001b[94m[DOWNLOAD] | Do you want to download the missing file? [Y/n] \u001b[0my\n",
            "...145%, 0 MB, 45496 KB/s, 0 seconds passed\n",
            "\u001b[94m[DOWNLOAD] | File class-descriptions-boxable.csv downloaded into OID/csv_folder/class-descriptions-boxable.csv.\u001b[0m\n",
            "\u001b[91m   [ERROR] | Missing the train-annotations-bbox.csv file.\u001b[0m\n",
            "\u001b[94m[DOWNLOAD] | Do you want to download the missing file? [Y/n] \u001b[0my\n",
            "...100%, 1138 MB, 37830 KB/s, 30 seconds passed\n",
            "\u001b[94m[DOWNLOAD] | File train-annotations-bbox.csv downloaded into OID/csv_folder/train-annotations-bbox.csv.\u001b[0m\n",
            "\n",
            "\u001b[95mTiger\u001b[0m\n",
            "    [INFO] | Downloading train images.\u001b[0m\n",
            "    [INFO] | [INFO] Found 1039 online images for train.\u001b[0m\n",
            "    [INFO] | Limiting to 100 images.\u001b[0m\n",
            "    [INFO] | Download of 100 images in train.\u001b[0m\n",
            "100% 100/100 [00:57<00:00,  1.74it/s]\n",
            "    [INFO] | Done!\u001b[0m\n",
            "    [INFO] | Creating labels for Tiger of train.\u001b[0m\n",
            "    [INFO] | Labels creation completed.\u001b[0m\n",
            "\u001b[92m\n",
            "\t\t   ___   _____  ______            _    _    \n",
            "\t\t .'   `.|_   _||_   _ `.         | |  | |   \n",
            "\t\t/  .-.  \\ | |    | | `. \\ _   __ | |__| |_  \n",
            "\t\t| |   | | | |    | |  | |[ \\ [  ]|____   _| \n",
            "\t\t\\  `-'  /_| |_  _| |_.' / \\ \\/ /     _| |_  \n",
            "\t\t `.___.'|_____||______.'   \\__/     |_____|\n",
            "\t\u001b[0m\n",
            "\u001b[92m\n",
            "             _____                    _                 _             \n",
            "            (____ \\                  | |               | |            \n",
            "             _   \\ \\ ___  _ _ _ ____ | | ___   ____  _ | | ____  ____ \n",
            "            | |   | / _ \\| | | |  _ \\| |/ _ \\ / _  |/ || |/ _  )/ ___)\n",
            "            | |__/ / |_| | | | | | | | | |_| ( ( | ( (_| ( (/ /| |    \n",
            "            |_____/ \\___/ \\____|_| |_|_|\\___/ \\_||_|\\____|\\____)_|    \n",
            "                                                          \n",
            "        \u001b[0m\n",
            "    [INFO] | Downloading Deer.\u001b[0m\n",
            "\n",
            "\u001b[95mDeer\u001b[0m\n",
            "    [INFO] | Downloading train images.\u001b[0m\n",
            "    [INFO] | [INFO] Found 2093 online images for train.\u001b[0m\n",
            "    [INFO] | Limiting to 100 images.\u001b[0m\n",
            "    [INFO] | Download of 100 images in train.\u001b[0m\n",
            "100% 100/100 [00:56<00:00,  1.76it/s]\n",
            "    [INFO] | Done!\u001b[0m\n",
            "    [INFO] | Creating labels for Deer of train.\u001b[0m\n",
            "    [INFO] | Labels creation completed.\u001b[0m\n",
            "\u001b[92m\n",
            "\t\t   ___   _____  ______            _    _    \n",
            "\t\t .'   `.|_   _||_   _ `.         | |  | |   \n",
            "\t\t/  .-.  \\ | |    | | `. \\ _   __ | |__| |_  \n",
            "\t\t| |   | | | |    | |  | |[ \\ [  ]|____   _| \n",
            "\t\t\\  `-'  /_| |_  _| |_.' / \\ \\/ /     _| |_  \n",
            "\t\t `.___.'|_____||______.'   \\__/     |_____|\n",
            "\t\u001b[0m\n",
            "\u001b[92m\n",
            "             _____                    _                 _             \n",
            "            (____ \\                  | |               | |            \n",
            "             _   \\ \\ ___  _ _ _ ____ | | ___   ____  _ | | ____  ____ \n",
            "            | |   | / _ \\| | | |  _ \\| |/ _ \\ / _  |/ || |/ _  )/ ___)\n",
            "            | |__/ / |_| | | | | | | | | |_| ( ( | ( (_| ( (/ /| |    \n",
            "            |_____/ \\___/ \\____|_| |_|_|\\___/ \\_||_|\\____|\\____)_|    \n",
            "                                                          \n",
            "        \u001b[0m\n",
            "    [INFO] | Downloading Lion.\u001b[0m\n",
            "\n",
            "\u001b[95mLion\u001b[0m\n",
            "    [INFO] | Downloading train images.\u001b[0m\n",
            "    [INFO] | [INFO] Found 1190 online images for train.\u001b[0m\n",
            "    [INFO] | Limiting to 100 images.\u001b[0m\n",
            "    [INFO] | Download of 100 images in train.\u001b[0m\n",
            "100% 100/100 [00:56<00:00,  1.77it/s]\n",
            "    [INFO] | Done!\u001b[0m\n",
            "    [INFO] | Creating labels for Lion of train.\u001b[0m\n",
            "    [INFO] | Labels creation completed.\u001b[0m\n",
            "\u001b[92m\n",
            "\t\t   ___   _____  ______            _    _    \n",
            "\t\t .'   `.|_   _||_   _ `.         | |  | |   \n",
            "\t\t/  .-.  \\ | |    | | `. \\ _   __ | |__| |_  \n",
            "\t\t| |   | | | |    | |  | |[ \\ [  ]|____   _| \n",
            "\t\t\\  `-'  /_| |_  _| |_.' / \\ \\/ /     _| |_  \n",
            "\t\t `.___.'|_____||______.'   \\__/     |_____|\n",
            "\t\u001b[0m\n",
            "\u001b[92m\n",
            "             _____                    _                 _             \n",
            "            (____ \\                  | |               | |            \n",
            "             _   \\ \\ ___  _ _ _ ____ | | ___   ____  _ | | ____  ____ \n",
            "            | |   | / _ \\| | | |  _ \\| |/ _ \\ / _  |/ || |/ _  )/ ___)\n",
            "            | |__/ / |_| | | | | | | | | |_| ( ( | ( (_| ( (/ /| |    \n",
            "            |_____/ \\___/ \\____|_| |_|_|\\___/ \\_||_|\\____|\\____)_|    \n",
            "                                                          \n",
            "        \u001b[0m\n",
            "    [INFO] | Downloading Zebra.\u001b[0m\n",
            "\n",
            "\u001b[95mZebra\u001b[0m\n",
            "    [INFO] | Downloading train images.\u001b[0m\n",
            "    [INFO] | [INFO] Found 621 online images for train.\u001b[0m\n",
            "    [INFO] | Limiting to 100 images.\u001b[0m\n",
            "    [INFO] | Download of 100 images in train.\u001b[0m\n",
            "100% 100/100 [00:57<00:00,  1.75it/s]\n",
            "    [INFO] | Done!\u001b[0m\n",
            "    [INFO] | Creating labels for Zebra of train.\u001b[0m\n",
            "    [INFO] | Labels creation completed.\u001b[0m\n"
          ],
          "name": "stdout"
        }
      ]
    },
    {
      "cell_type": "code",
      "metadata": {
        "id": "wIZb9QuhEre_"
      },
      "source": [
        "import glob\n",
        "x=[]\n",
        "y=[]\n",
        "path='OID/Dataset/train/'\n",
        "for i in ['Lion','Tiger','Deer','Zebra']:\n",
        "  for file in glob.glob(path+i+'/*.jpg'):\n",
        "    im=cv2.imread(file)\n",
        "    im=cv2.resize(im,(224,224))\n",
        "    im=cv2.cvtColor(im,cv2.COLOR_BGR2RGB)\n",
        "    im=np.array(im)\n",
        "    if i == 'Lion':\n",
        "      label=np.array([1,0,0,0])\n",
        "    if i == 'Tiger':\n",
        "      label=np.array([0,1,0,0])\n",
        "    if i == 'Deer':\n",
        "      label=np.array([0,0,1,0])\n",
        "    if i == 'Zebra':\n",
        "      label=np.array([0,0,0,1])\n",
        "    x.append(im)\n",
        "    y.append(label)\n",
        "x=np.array(x)\n",
        "y=np.array(y)"
      ],
      "execution_count": null,
      "outputs": []
    },
    {
      "cell_type": "code",
      "metadata": {
        "id": "frdgpm4UJerH"
      },
      "source": [
        "res.trainable=False\n",
        "model.compile(loss='categorical_crossentropy')"
      ],
      "execution_count": null,
      "outputs": []
    },
    {
      "cell_type": "code",
      "metadata": {
        "colab": {
          "base_uri": "https://localhost:8080/"
        },
        "id": "VzDZTRMKLzrV",
        "outputId": "ab5179e6-36c8-4f33-c93c-c03caec6cfd3"
      },
      "source": [
        "print(np.shape(x))\n",
        "print(np.shape(y))"
      ],
      "execution_count": null,
      "outputs": [
        {
          "output_type": "stream",
          "text": [
            "(400, 224, 224, 3)\n",
            "(400, 4)\n"
          ],
          "name": "stdout"
        }
      ]
    },
    {
      "cell_type": "code",
      "metadata": {
        "colab": {
          "base_uri": "https://localhost:8080/"
        },
        "id": "kW6z2blyJ25M",
        "outputId": "937a9d34-d77b-424f-8ebf-1e7d078ae761"
      },
      "source": [
        "history=model.fit(x=x,y=y,batch_size=20,epochs=100)"
      ],
      "execution_count": null,
      "outputs": [
        {
          "output_type": "stream",
          "text": [
            "Epoch 1/100\n",
            "20/20 [==============================] - 1s 39ms/step - loss: 0.1935\n",
            "Epoch 2/100\n",
            "20/20 [==============================] - 1s 39ms/step - loss: 0.1008\n",
            "Epoch 3/100\n",
            "20/20 [==============================] - 1s 39ms/step - loss: 0.0559\n",
            "Epoch 4/100\n",
            "20/20 [==============================] - 1s 39ms/step - loss: 0.0316\n",
            "Epoch 5/100\n",
            "20/20 [==============================] - 1s 38ms/step - loss: 0.0121\n",
            "Epoch 6/100\n",
            "20/20 [==============================] - 1s 39ms/step - loss: 0.0035\n",
            "Epoch 7/100\n",
            "20/20 [==============================] - 1s 39ms/step - loss: 0.0016\n",
            "Epoch 8/100\n",
            "20/20 [==============================] - 1s 39ms/step - loss: 0.0010\n",
            "Epoch 9/100\n",
            "20/20 [==============================] - 1s 39ms/step - loss: 8.9885e-04\n",
            "Epoch 10/100\n",
            "20/20 [==============================] - 1s 38ms/step - loss: 5.1959e-04\n",
            "Epoch 11/100\n",
            "20/20 [==============================] - 1s 38ms/step - loss: 2.7574e-04\n",
            "Epoch 12/100\n",
            "20/20 [==============================] - 1s 39ms/step - loss: 1.4731e-04\n",
            "Epoch 13/100\n",
            "20/20 [==============================] - 1s 39ms/step - loss: 1.5251e-04\n",
            "Epoch 14/100\n",
            "20/20 [==============================] - 1s 39ms/step - loss: 1.1290e-04\n",
            "Epoch 15/100\n",
            "20/20 [==============================] - 1s 39ms/step - loss: 6.7191e-05\n",
            "Epoch 16/100\n",
            "20/20 [==============================] - 1s 39ms/step - loss: 9.4162e-05\n",
            "Epoch 17/100\n",
            "20/20 [==============================] - 1s 38ms/step - loss: 3.3868e-05\n",
            "Epoch 18/100\n",
            "20/20 [==============================] - 1s 39ms/step - loss: 3.6447e-05\n",
            "Epoch 19/100\n",
            "20/20 [==============================] - 1s 39ms/step - loss: 1.7811e-05\n",
            "Epoch 20/100\n",
            "20/20 [==============================] - 1s 38ms/step - loss: 1.3253e-05\n",
            "Epoch 21/100\n",
            "20/20 [==============================] - 1s 39ms/step - loss: 1.5660e-05\n",
            "Epoch 22/100\n",
            "20/20 [==============================] - 1s 39ms/step - loss: 6.9798e-06\n",
            "Epoch 23/100\n",
            "20/20 [==============================] - 1s 39ms/step - loss: 1.0456e-05\n",
            "Epoch 24/100\n",
            "20/20 [==============================] - 1s 39ms/step - loss: 4.1544e-06\n",
            "Epoch 25/100\n",
            "20/20 [==============================] - 1s 39ms/step - loss: 3.3432e-06\n",
            "Epoch 26/100\n",
            "20/20 [==============================] - 1s 39ms/step - loss: 8.1981e-06\n",
            "Epoch 27/100\n",
            "20/20 [==============================] - 1s 39ms/step - loss: 1.7282e-06\n",
            "Epoch 28/100\n",
            "20/20 [==============================] - 1s 39ms/step - loss: 1.4323e-06\n",
            "Epoch 29/100\n",
            "20/20 [==============================] - 1s 39ms/step - loss: 1.4394e-06\n",
            "Epoch 30/100\n",
            "20/20 [==============================] - 1s 39ms/step - loss: 1.1489e-06\n",
            "Epoch 31/100\n",
            "20/20 [==============================] - 1s 39ms/step - loss: 9.5486e-07\n",
            "Epoch 32/100\n",
            "20/20 [==============================] - 1s 38ms/step - loss: 6.9678e-07\n",
            "Epoch 33/100\n",
            "20/20 [==============================] - 1s 39ms/step - loss: 6.0886e-07\n",
            "Epoch 34/100\n",
            "20/20 [==============================] - 1s 39ms/step - loss: 4.9144e-07\n",
            "Epoch 35/100\n",
            "20/20 [==============================] - 1s 39ms/step - loss: 3.3110e-07\n",
            "Epoch 36/100\n",
            "20/20 [==============================] - 1s 39ms/step - loss: 2.7627e-07\n",
            "Epoch 37/100\n",
            "20/20 [==============================] - 1s 39ms/step - loss: 2.5779e-07\n",
            "Epoch 38/100\n",
            "20/20 [==============================] - 1s 39ms/step - loss: 1.8775e-07\n",
            "Epoch 39/100\n",
            "20/20 [==============================] - 1s 39ms/step - loss: 1.6302e-07\n",
            "Epoch 40/100\n",
            "20/20 [==============================] - 1s 39ms/step - loss: 1.3530e-07\n",
            "Epoch 41/100\n",
            "20/20 [==============================] - 1s 40ms/step - loss: 1.2606e-07\n",
            "Epoch 42/100\n",
            "20/20 [==============================] - 1s 39ms/step - loss: 1.0252e-07\n",
            "Epoch 43/100\n",
            "20/20 [==============================] - 1s 39ms/step - loss: 9.2089e-08\n",
            "Epoch 44/100\n",
            "20/20 [==============================] - 1s 39ms/step - loss: 8.6427e-08\n",
            "Epoch 45/100\n",
            "20/20 [==============================] - 1s 39ms/step - loss: 7.5400e-08\n",
            "Epoch 46/100\n",
            "20/20 [==============================] - 1s 39ms/step - loss: 6.9141e-08\n",
            "Epoch 47/100\n",
            "20/20 [==============================] - 1s 39ms/step - loss: 6.3479e-08\n",
            "Epoch 48/100\n",
            "20/20 [==============================] - 1s 40ms/step - loss: 5.5432e-08\n",
            "Epoch 49/100\n",
            "20/20 [==============================] - 1s 38ms/step - loss: 5.4538e-08\n",
            "Epoch 50/100\n",
            "20/20 [==============================] - 1s 39ms/step - loss: 4.7982e-08\n",
            "Epoch 51/100\n",
            "20/20 [==============================] - 1s 39ms/step - loss: 4.4703e-08\n",
            "Epoch 52/100\n",
            "20/20 [==============================] - 1s 39ms/step - loss: 4.2319e-08\n",
            "Epoch 53/100\n",
            "20/20 [==============================] - 1s 39ms/step - loss: 4.1425e-08\n",
            "Epoch 54/100\n",
            "20/20 [==============================] - 1s 39ms/step - loss: 4.0531e-08\n",
            "Epoch 55/100\n",
            "20/20 [==============================] - 1s 39ms/step - loss: 3.5763e-08\n",
            "Epoch 56/100\n",
            "20/20 [==============================] - 1s 39ms/step - loss: 3.6061e-08\n",
            "Epoch 57/100\n",
            "20/20 [==============================] - 1s 40ms/step - loss: 3.2187e-08\n",
            "Epoch 58/100\n",
            "20/20 [==============================] - 1s 39ms/step - loss: 2.8014e-08\n",
            "Epoch 59/100\n",
            "20/20 [==============================] - 1s 39ms/step - loss: 2.8610e-08\n",
            "Epoch 60/100\n",
            "20/20 [==============================] - 1s 39ms/step - loss: 2.5928e-08\n",
            "Epoch 61/100\n",
            "20/20 [==============================] - 1s 39ms/step - loss: 2.5034e-08\n",
            "Epoch 62/100\n",
            "20/20 [==============================] - 1s 39ms/step - loss: 2.4438e-08\n",
            "Epoch 63/100\n",
            "20/20 [==============================] - 1s 39ms/step - loss: 2.2948e-08\n",
            "Epoch 64/100\n",
            "20/20 [==============================] - 1s 39ms/step - loss: 2.2352e-08\n",
            "Epoch 65/100\n",
            "20/20 [==============================] - 1s 38ms/step - loss: 2.0862e-08\n",
            "Epoch 66/100\n",
            "20/20 [==============================] - 1s 38ms/step - loss: 1.9073e-08\n",
            "Epoch 67/100\n",
            "20/20 [==============================] - 1s 39ms/step - loss: 1.6093e-08\n",
            "Epoch 68/100\n",
            "20/20 [==============================] - 1s 39ms/step - loss: 1.6987e-08\n",
            "Epoch 69/100\n",
            "20/20 [==============================] - 1s 39ms/step - loss: 1.5497e-08\n",
            "Epoch 70/100\n",
            "20/20 [==============================] - 1s 39ms/step - loss: 1.4603e-08\n",
            "Epoch 71/100\n",
            "20/20 [==============================] - 1s 39ms/step - loss: 1.4007e-08\n",
            "Epoch 72/100\n",
            "20/20 [==============================] - 1s 39ms/step - loss: 1.1027e-08\n",
            "Epoch 73/100\n",
            "20/20 [==============================] - 1s 39ms/step - loss: 1.1325e-08\n",
            "Epoch 74/100\n",
            "20/20 [==============================] - 1s 39ms/step - loss: 9.2387e-09\n",
            "Epoch 75/100\n",
            "20/20 [==============================] - 1s 39ms/step - loss: 9.8348e-09\n",
            "Epoch 76/100\n",
            "20/20 [==============================] - 1s 38ms/step - loss: 7.7486e-09\n",
            "Epoch 77/100\n",
            "20/20 [==============================] - 1s 39ms/step - loss: 1.2517e-08\n",
            "Epoch 78/100\n",
            "20/20 [==============================] - 1s 39ms/step - loss: 9.2387e-09\n",
            "Epoch 79/100\n",
            "20/20 [==============================] - 1s 39ms/step - loss: 7.7486e-09\n",
            "Epoch 80/100\n",
            "20/20 [==============================] - 1s 39ms/step - loss: 7.7486e-09\n",
            "Epoch 81/100\n",
            "20/20 [==============================] - 1s 39ms/step - loss: 9.2387e-09\n",
            "Epoch 82/100\n",
            "20/20 [==============================] - 1s 39ms/step - loss: 7.1526e-09\n",
            "Epoch 83/100\n",
            "20/20 [==============================] - 1s 39ms/step - loss: 8.9407e-09\n",
            "Epoch 84/100\n",
            "20/20 [==============================] - 1s 39ms/step - loss: 8.3446e-09\n",
            "Epoch 85/100\n",
            "20/20 [==============================] - 1s 39ms/step - loss: 8.3446e-09\n",
            "Epoch 86/100\n",
            "20/20 [==============================] - 1s 39ms/step - loss: 7.1526e-09\n",
            "Epoch 87/100\n",
            "20/20 [==============================] - 1s 39ms/step - loss: 6.5565e-09\n",
            "Epoch 88/100\n",
            "20/20 [==============================] - 1s 38ms/step - loss: 5.9605e-09\n",
            "Epoch 89/100\n",
            "20/20 [==============================] - 1s 39ms/step - loss: 5.6624e-09\n",
            "Epoch 90/100\n",
            "20/20 [==============================] - 1s 39ms/step - loss: 5.0664e-09\n",
            "Epoch 91/100\n",
            "20/20 [==============================] - 1s 39ms/step - loss: 5.9605e-09\n",
            "Epoch 92/100\n",
            "20/20 [==============================] - 1s 39ms/step - loss: 4.7684e-09\n",
            "Epoch 93/100\n",
            "20/20 [==============================] - 1s 39ms/step - loss: 5.9605e-09\n",
            "Epoch 94/100\n",
            "20/20 [==============================] - 1s 39ms/step - loss: 5.0664e-09\n",
            "Epoch 95/100\n",
            "20/20 [==============================] - 1s 39ms/step - loss: 4.1723e-09\n",
            "Epoch 96/100\n",
            "20/20 [==============================] - 1s 39ms/step - loss: 4.4703e-09\n",
            "Epoch 97/100\n",
            "20/20 [==============================] - 1s 39ms/step - loss: 2.6822e-09\n",
            "Epoch 98/100\n",
            "20/20 [==============================] - 1s 39ms/step - loss: 3.5763e-09\n",
            "Epoch 99/100\n",
            "20/20 [==============================] - 1s 39ms/step - loss: 4.4703e-09\n",
            "Epoch 100/100\n",
            "20/20 [==============================] - 1s 39ms/step - loss: 2.6822e-09\n"
          ],
          "name": "stdout"
        }
      ]
    },
    {
      "cell_type": "code",
      "metadata": {
        "colab": {
          "base_uri": "https://localhost:8080/",
          "height": 266
        },
        "id": "ZHBd4KT5M0vR",
        "outputId": "e681d5e8-3e12-4a7a-f7a5-4c90aa475d21"
      },
      "source": [
        "plt.plot(np.arange(1,101),history.history['loss'],label='loss')\n",
        "#plt.plot(np.arange(1,101),history.history['accuracy'],label='accuracy')\n",
        "plt.legend()\n",
        "plt.show()"
      ],
      "execution_count": null,
      "outputs": [
        {
          "output_type": "display_data",
          "data": {
            "image/png": "[encoded data removed]",
            "text/plain": [
              "<Figure size 432x288 with 1 Axes>"
            ]
          },
          "metadata": {
            "tags": [],
            "needs_background": "light"
          }
        }
      ]
    },
    {
      "cell_type": "code",
      "metadata": {
        "id": "kFoh28RONud4"
      },
      "source": [
        "def pred(img):\n",
        "  rects=getrect(img)\n",
        "  ans=[]\n",
        "  for rect in rects:\n",
        "    a,b,c,d=rect \n",
        "    tempimage=img[b:b+d,a:a+c]\n",
        "    tempimage=cv2.resize(tempimage,(224,224))\n",
        "    tempimage=np.reshape(tempimage,(1,224,224,3))\n",
        "    result=model.predict(tempimage)[0]\n",
        "    ind=np.argmax(result)\n",
        "    if result[ind]>0.8:\n",
        "      ans.append([ind,result[ind],a,b,c,d])\n",
        "  return ans\n",
        "\n"
      ],
      "execution_count": null,
      "outputs": []
    },
    {
      "cell_type": "code",
      "metadata": {
        "id": "vv2DrzRxO4CB"
      },
      "source": [
        "testim=cv2.imread('OID/Dataset/train/Tiger/08d1b88885af1c8e.jpg')\n",
        "testim=cv2.cvtColor(testim,cv2.COLOR_BGR2RGB)\n",
        "boxes=pred(testim)"
      ],
      "execution_count": null,
      "outputs": []
    },
    {
      "cell_type": "code",
      "metadata": {
        "id": "54Og3JZDUXpX"
      },
      "source": [
        "from tensorflow.image import  *\n",
        "tempboxes=[i[2:] for i in boxes]\n",
        "scores=[i[1] for i in boxes]\n",
        "boxind=non_max_suppression(tempboxes,scores,1).numpy()\n",
        "boxind=np.reshape(boxind,(1))\n",
        "boxind=np.array(boxind,dtype=np.int)\n",
        "dic={0:'Lion',1:'Tiger',2:'Deer',3:'Zebra'}\n",
        "for i in boxind:\n",
        "  ind=int(i)\n",
        "  a,b,c,d=boxes[ind][2:]\n",
        "  out=cv2.rectangle(testim,(a,b),(a+c,b+d),(0,255,0),(2))\n",
        "  cv2.putText(out,dic[lab],(a,b-10),cv2.FONT_HERSHEY_SIMPLEX,0.9,(36,255,12),2)\n",
        "\n",
        "plt.imshow(out)\n",
        "plt.show()\n"
      ],
      "execution_count": null,
      "outputs": []
    }
  ]
}